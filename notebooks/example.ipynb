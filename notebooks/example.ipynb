{
 "cells": [
  {
   "cell_type": "code",
   "execution_count": 1,
   "metadata": {},
   "outputs": [
    {
     "name": "stderr",
     "output_type": "stream",
     "text": [
      "/home/crequ/anaconda3/envs/HS_UC1/lib/python3.9/site-packages/tqdm/auto.py:22: TqdmWarning: IProgress not found. Please update jupyter and ipywidgets. See https://ipywidgets.readthedocs.io/en/stable/user_install.html\n",
      "  from .autonotebook import tqdm as notebook_tqdm\n"
     ]
    }
   ],
   "source": [
    "import earthnet_minicuber\n",
    "import rasterio\n",
    "import numpy as np\n",
    "import pandas as pd\n",
    "import matplotlib.pyplot as plt\n",
    "import matplotlib.colors as clr\n",
    "import datetime\n",
    "import folium\n",
    "cmap_veg = clr.LinearSegmentedColormap.from_list('veg', ['#ffffe5','#f7fcb9','#d9f0a3','#addd8e','#78c679','#41ab5d','#238443','#006837','#004529'])"
   ]
  },
  {
   "cell_type": "code",
   "execution_count": 2,
   "metadata": {},
   "outputs": [],
   "source": [
    "# Hide warnings (many since some xarray class uses some deprecated python function on 3.9)\n",
    "import warnings\n",
    "warnings.filterwarnings('ignore')"
   ]
  },
  {
   "cell_type": "code",
   "execution_count": 3,
   "metadata": {},
   "outputs": [],
   "source": [
    "specs = {\n",
    "    \"lon_lat\": (33.598946, -5.087414), # center pixel\n",
    "    \"xy_shape\": (256, 256), # width, height of cutout around center pixel\n",
    "    \"resolution\": 20, # in meters.. will use this together with grid of primary provider..\n",
    "    \"time_interval\": \"2021-01-01/2021-03-31\",\n",
    "    \"primary_provider\": {\n",
    "    \"name\": \"s2\",\n",
    "    \"kwargs\": {\"bands\": [\"B02\", \"B03\", \"B04\",\"B08\"], \"best_orbit_filter\": True, \"brdf_correction\": True, \"cloud_mask\": True}\n",
    "    },\n",
    "    \"other_providers\": [\n",
    "        {\n",
    "            \"name\": \"s1\",\n",
    "            \"kwargs\": {\"bands\": [\"vv\", \"vh\",\"mask\"], \"speckle_filter\": True, \"speckle_filter_kwargs\": {\"type\": \"lee\", \"size\": 9}} \n",
    "        },\n",
    "        {\n",
    "            \"name\": \"ndviclim\",\n",
    "            \"kwargs\": {\"bands\": [\"mean\", \"std\"]}\n",
    "        },\n",
    "        {\n",
    "            \"name\": \"srtm\",\n",
    "            \"kwargs\": {\"bands\": [\"dem\"]}\n",
    "        },\n",
    "        {\n",
    "            \"name\": \"esawc\",\n",
    "            \"kwargs\": {\"bands\": [\"lc\"]}\n",
    "        },\n",
    "        {\n",
    "            \"name\": \"era5\",\n",
    "            \"kwargs\": {\"bands\": ['t2m', 'pev', 'slhf', 'ssr', 'sp', 'sshf', 'e', 'tp'], \"aggregation_types\": [\"mean\", \"min\", \"max\"], \"zarrurl\": \"https://storage.de.cloud.ovh.net/v1/AUTH_84d6da8e37fe4bb5aea18902da8c1170/uc1-africa/era5_africa_0d1_3hourly.zarr\"}\n",
    "        }\n",
    "        ]\n",
    "}\n",
    "\n",
    "## Locations of interest\n",
    "# \"lon_lat\": (43.598946, 3.087414), # Baidoa\n",
    "# \"lon_lat\": (9.920089, 2.936115), # Kribi"
   ]
  },
  {
   "cell_type": "code",
   "execution_count": null,
   "metadata": {},
   "outputs": [
    {
     "name": "stdout",
     "output_type": "stream",
     "text": [
      "Loading s2\n",
      "Loading s1\n",
      "Loading ndviclim\n",
      "Loading srtm\n",
      "Loading esawc\n",
      "Loading era5\n"
     ]
    }
   ],
   "source": [
    "cube = earthnet_minicuber.Minicuber.load_minicube(specs)"
   ]
  },
  {
   "cell_type": "code",
   "execution_count": null,
   "metadata": {},
   "outputs": [],
   "source": [
    "cube"
   ]
  },
  {
   "cell_type": "code",
   "execution_count": null,
   "metadata": {},
   "outputs": [],
   "source": [
    "def map(minicube):\n",
    "    x_min, x_max, y_min, y_max = minicube.lon[0].values, minicube.lon[-1].values, minicube.lat[-1].values, minicube.lat[0].values\n",
    "    # Create map\n",
    "    interactive_map = folium.Map(\n",
    "        location=((y_min+y_max)/2, (x_min+x_max)/2),\n",
    "        zoom_start=min(int((np.log(1000 / (x_max-x_min)) / np.log(2))), int((np.log(1000 / (y_max-y_min)) / np.log(2)))),\n",
    "        tiles=\"http://mt1.google.com/vt/lyrs=y&z={z}&x={x}&y={y}\",\n",
    "        attr=\"Google\",\n",
    "        prefer_canvas=True,\n",
    "    )\n",
    "    \n",
    "    folium.TileLayer('openstreetmap', show=False).add_to(interactive_map)\n",
    "    \n",
    "    # Create bounding box coordinates to overlay on map\n",
    "    line_segments = [\n",
    "        (y_min, x_min),\n",
    "        (y_min, x_max),\n",
    "        (y_max, x_max),\n",
    "        (y_max, x_min),\n",
    "        (y_min, x_min),\n",
    "    ]\n",
    "\n",
    "    # Add bounding box as an overlay\n",
    "    interactive_map.add_child(\n",
    "        folium.features.PolyLine(locations=line_segments, color=\"red\", opacity=0.8)\n",
    "    )\n",
    "    #folium.PolyLine(locations=line_segments, color=\"red\", opacity=0.8).add_to(interactive_map)\n",
    "    \n",
    "    return interactive_map"
   ]
  },
  {
   "cell_type": "markdown",
   "metadata": {},
   "source": [
    "# Folium plot"
   ]
  },
  {
   "cell_type": "code",
   "execution_count": null,
   "metadata": {},
   "outputs": [],
   "source": [
    "# PARAMS\n",
    "S2_t = 0\n",
    "S1_t = 1"
   ]
  },
  {
   "cell_type": "code",
   "execution_count": null,
   "metadata": {},
   "outputs": [],
   "source": [
    "rgb = cube[[\"s2_B04\", \"s2_B03\", \"s2_B02\"]].to_array(\"band\").isel(time=S2_t).to_numpy()\n",
    "rgb = np.nan_to_num(rgb, nan=0.0)\n",
    "rgb = np.swapaxes(rgb, 0, 2)\n",
    "rgb = np.swapaxes(rgb, 0, 1)"
   ]
  },
  {
   "cell_type": "code",
   "execution_count": null,
   "metadata": {},
   "outputs": [],
   "source": [
    "srtm = cube.srtm_dem.to_numpy()\n",
    "srtm = (srtm-np.nanmin(srtm))/np.nanmax(srtm) #minmax scale\n",
    "srtm = np.nan_to_num(srtm, nan=np.nanmean(srtm))"
   ]
  },
  {
   "cell_type": "code",
   "execution_count": null,
   "metadata": {},
   "outputs": [],
   "source": [
    "mask = cube[\"s2_mask\"].isel(time=S2_t).where(lambda x: x>0).to_numpy()\n",
    "mask = np.nan_to_num(mask, nan=0.0)"
   ]
  },
  {
   "cell_type": "code",
   "execution_count": null,
   "metadata": {},
   "outputs": [],
   "source": [
    "s1 = (4 * cube.s1_vh / (cube.s1_vh + cube.s1_vv)).isel(time=S1_t).to_numpy()\n",
    "s1 = np.nan_to_num(s1, nan=0.0)"
   ]
  },
  {
   "cell_type": "code",
   "execution_count": null,
   "metadata": {},
   "outputs": [],
   "source": [
    "lc = cube.esawc_lc.to_numpy()\n",
    "lc = np.nan_to_num(lc, nan=0.0)"
   ]
  },
  {
   "cell_type": "code",
   "execution_count": null,
   "metadata": {},
   "outputs": [],
   "source": [
    "ndvi_clims=[]\n",
    "for i in range(12):\n",
    "    clim = cube.ndviclim_mean.isel(time_clim=i).to_numpy()\n",
    "    clim = np.nan_to_num(clim, nan=0.0)\n",
    "    month = datetime.datetime.strptime(str(i+1), \"%m\").strftime(\"%b\")\n",
    "    ndvi_clims.append({\"month\": month, \"ndvi_mean\": clim})"
   ]
  },
  {
   "cell_type": "code",
   "execution_count": null,
   "metadata": {},
   "outputs": [],
   "source": [
    "interactive_map = map(cube)\n",
    "\n",
    "bounds = [[float(cube.lat[-1].values), float(cube.lon[0].values)], [float(cube.lat[0].values), float(cube.lon[-1].values)]]\n",
    "\n",
    "# Add RGB layer\n",
    "folium.raster_layers.ImageOverlay(\n",
    "    image=rgb,\n",
    "    bounds=bounds,\n",
    "    mercator_project=True,\n",
    "    name=\"Sentinel 2 RGB\",\n",
    "    opacity=0.95,\n",
    ").add_to(interactive_map)\n",
    "\n",
    "# Add cloud layer\n",
    "folium.raster_layers.ImageOverlay(\n",
    "    image=mask,\n",
    "    bounds=bounds,\n",
    "    mercator_project=True,\n",
    "    name=\"S2 Mask\",\n",
    "    colormap = lambda x: (1, x/10, -x/2, x),\n",
    ").add_to(interactive_map)\n",
    "\n",
    "# Add S1\n",
    "folium.raster_layers.ImageOverlay(\n",
    "    image=s1,\n",
    "    bounds=bounds,\n",
    "    mercator_project=True,\n",
    "    name=\"S1\",\n",
    "    opacity=1,\n",
    "    show=False,\n",
    "    colormap = cmap_veg,\n",
    ").add_to(interactive_map)\n",
    "\n",
    "# Add SRTM\n",
    "folium.raster_layers.ImageOverlay(\n",
    "    image=srtm,\n",
    "    bounds=bounds,\n",
    "    mercator_project=True,\n",
    "    name=\"SRTM\",\n",
    "    opacity=0.75,\n",
    "    show=False,\n",
    "    colormap = plt.get_cmap(\"terrain\"),\n",
    ").add_to(interactive_map)\n",
    "\n",
    "# Add ESA-WC\n",
    "folium.raster_layers.ImageOverlay(\n",
    "    image=lc/255,\n",
    "    bounds=bounds,\n",
    "    mercator_project=True,\n",
    "    name=\"ESA WorldCover\",\n",
    "    opacity=0.8,\n",
    "    show=False,\n",
    "    colormap = plt.get_cmap(\"Set3\"),\n",
    ").add_to(interactive_map)\n",
    "\n",
    "# Add NDVI Climatology\n",
    "for clim in ndvi_clims:\n",
    "    folium.raster_layers.ImageOverlay(\n",
    "        image=clim['ndvi_mean'],\n",
    "        bounds=bounds,\n",
    "        mercator_project=True,\n",
    "        name=f\"NDVI {clim['month']}\",\n",
    "        opacity=0.9,\n",
    "        show=False,\n",
    "        colormap = cmap_veg,\n",
    "    ).add_to(interactive_map)\n",
    "    \n",
    "folium.map.LayerControl(position='topright', collapsed=False, autoZIndex=True).add_to(interactive_map)\n",
    "\n",
    "interactive_map"
   ]
  },
  {
   "cell_type": "markdown",
   "metadata": {},
   "source": [
    "# Other Plots"
   ]
  },
  {
   "cell_type": "code",
   "execution_count": null,
   "metadata": {},
   "outputs": [],
   "source": [
    "rgb_brightness_scaling=2\n",
    "\n",
    "(cube[[\"s2_B04\", \"s2_B03\", \"s2_B02\"]].to_array(\"band\").isel(time = S2_t) * rgb_brightness_scaling).plot.imshow(rgb=\"band\", figsize = (10, 10))"
   ]
  },
  {
   "cell_type": "code",
   "execution_count": null,
   "metadata": {},
   "outputs": [],
   "source": [
    "(cube[[\"s2_B04\", \"s2_B03\", \"s2_B02\"]].to_array(\"band\").isel(time = S2_t)*rgb_brightness_scaling).plot.imshow(rgb=\"band\", figsize=(12,10))\n",
    "cube[\"s2_mask\"].isel(time=S2_t).where(lambda x: x>0).plot.imshow(ax = plt.gca())"
   ]
  },
  {
   "cell_type": "code",
   "execution_count": null,
   "metadata": {},
   "outputs": [],
   "source": [
    "(4 * cube.s1_vh / (cube.s1_vh + cube.s1_vv)).isel(time=S1_t).plot.imshow(vmin = 0, vmax = 1,cmap = cmap_veg, figsize = (12, 10))"
   ]
  },
  {
   "cell_type": "code",
   "execution_count": null,
   "metadata": {},
   "outputs": [],
   "source": [
    "cube.ndviclim_mean.plot.imshow(col = \"time_clim\", col_wrap = 6, cmap = cmap_veg, vmin = 0, vmax = 1)"
   ]
  },
  {
   "cell_type": "code",
   "execution_count": null,
   "metadata": {},
   "outputs": [],
   "source": [
    "cube.esawc_lc.plot(cmap=\"Set3\", figsize = (12, 10))"
   ]
  },
  {
   "cell_type": "code",
   "execution_count": null,
   "metadata": {},
   "outputs": [],
   "source": [
    "cube.srtm_dem.plot.imshow(figsize = (12, 10))"
   ]
  },
  {
   "cell_type": "code",
   "execution_count": null,
   "metadata": {},
   "outputs": [],
   "source": [
    "cube[[\"era5_t2m_mean\",\"era5_t2m_min\",\"era5_t2m_max\"]].to_array(\"band\").plot(hue = \"band\")"
   ]
  },
  {
   "cell_type": "code",
   "execution_count": null,
   "metadata": {},
   "outputs": [],
   "source": []
  }
 ],
 "metadata": {
  "interpreter": {
   "hash": "b8871a750d843be4fc44b81a68058be02fb10b866e6d69eafa0cb3ccc9f46805"
  },
  "kernelspec": {
   "display_name": "Python 3 (ipykernel)",
   "language": "python",
   "name": "python3"
  },
  "language_info": {
   "codemirror_mode": {
    "name": "ipython",
    "version": 3
   },
   "file_extension": ".py",
   "mimetype": "text/x-python",
   "name": "python",
   "nbconvert_exporter": "python",
   "pygments_lexer": "ipython3",
   "version": "3.9.12"
  }
 },
 "nbformat": 4,
 "nbformat_minor": 4
}
