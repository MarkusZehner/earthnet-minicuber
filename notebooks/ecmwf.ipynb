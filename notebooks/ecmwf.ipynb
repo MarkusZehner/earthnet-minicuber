{
 "cells": [
  {
   "cell_type": "markdown",
   "id": "069e28ea-9df0-4c27-b132-bf41c8409aff",
   "metadata": {},
   "source": [
    "# Requesting seasonal forecasts/hindcast from C3S\n",
    "### get API key\n",
    "Instructions: https://cds.climate.copernicus.eu/api-how-to\n",
    "\n",
    "### Build an example playground request\n",
    "https://cds.climate.copernicus.eu/cdsapp#!/dataset/seasonal-original-single-levels?tab=form\n",
    "\n",
    "### Agree to product licenses\n",
    "https://cds-clone.copernicus-climate.eu/cdsapp/#!/terms/Additional-licence-to-use-non-European-contributions\n",
    "https://cds-clone.copernicus-climate.eu/cdsapp/#!/terms/Additional-licence-to-use-non-European-contributions\n",
    "\n",
    "Can be accepted at the bottom of https://cds.climate.copernicus.eu/cdsapp#!/dataset/seasonal-original-single-levels?tab=form while logged in with your credentials https://cds.climate.copernicus.eu/cdsapp#!/dataset/seasonal-original-single-levels?tab=form"
   ]
  },
  {
   "cell_type": "code",
   "execution_count": null,
   "id": "3c3a5030-823f-4028-9afd-50462e97ed91",
   "metadata": {},
   "outputs": [
    {
     "name": "stdout",
     "output_type": "stream",
     "text": [
      "Skipping ecmwf_2017_2m_temperature.grib, file found!\n",
      "Skipping ecmwf_2017_surface_latent_heat_flux.grib, file found!\n",
      "Skipping ecmwf_2017_surface_net_solar_radiation.grib, file found!\n",
      "Skipping ecmwf_2017_mean_sea_level_pressure.grib, file found!\n",
      "Skipping ecmwf_2017_evaporation.grib, file found!\n",
      "Skipping ecmwf_2017_surface_sensible_heat_flux.grib, file found!\n",
      "Skipping ecmwf_2017_total_precipitation.grib, file found!\n",
      "Skipping ecmwf_2018_2m_temperature.grib, file found!\n",
      "Skipping ecmwf_2018_surface_latent_heat_flux.grib, file found!\n",
      "Skipping ecmwf_2018_surface_net_solar_radiation.grib, file found!\n",
      "Skipping ecmwf_2018_mean_sea_level_pressure.grib, file found!\n",
      "Skipping ecmwf_2018_evaporation.grib, file found!\n",
      "Skipping ecmwf_2018_surface_sensible_heat_flux.grib, file found!\n",
      "Skipping ecmwf_2018_total_precipitation.grib, file found!\n",
      "Skipping ecmwf_2019_2m_temperature.grib, file found!\n",
      "Downloading ecmwf_2019_surface_latent_heat_flux.grib\n"
     ]
    },
    {
     "name": "stderr",
     "output_type": "stream",
     "text": [
      "2022-04-19 11:38:27,873 INFO Welcome to the CDS\n",
      "2022-04-19 11:38:27,874 INFO Sending request to https://cds.climate.copernicus.eu/api/v2/resources/seasonal-original-single-levels\n",
      "2022-04-19 11:38:28,000 INFO Request is queued\n",
      "2022-04-19 11:38:29,040 INFO Request is running\n",
      "2022-04-19 11:54:41,529 INFO Request is completed\n",
      "2022-04-19 11:54:41,530 INFO Downloading https://download-0008-clone.copernicus-climate.eu/cache-compute-0008/cache/data2/adaptor.mars.external-1650361110.1128297-22565-14-2c0d1cde-5fa3-49d3-a204-d30d0fb345d9.grib to /mnt/d/ecmwf/ecmwf_2019_surface_latent_heat_flux.grib (1.4G)\n",
      "  3%|█████▌                                                                                                                                                                                                             | 36.4M/1.36G [00:49<23:05, 1.03MB/s]"
     ]
    }
   ],
   "source": [
    "import cdsapi\n",
    "from pathlib import Path\n",
    "\n",
    "c = cdsapi.Client()\n",
    "\n",
    "leadtime_range = list(range(0,24*180,6)) # every 6 hours for 180 days\n",
    "\n",
    "variables = ['2m_temperature', 'surface_latent_heat_flux',\n",
    "             'surface_net_solar_radiation','mean_sea_level_pressure', 'evaporation',\n",
    "            'surface_sensible_heat_flux','total_precipitation']\n",
    "\n",
    "years = ['2017', '2018', '2019','2020','2021']\n",
    "\n",
    "download_dir = '/mnt/d/ecmwf/'\n",
    "\n",
    "for year in years:\n",
    "    for variable in variables:\n",
    "        \n",
    "        file_path = Path(download_dir+f'ecmwf_{year}_{variable}.grib')\n",
    "        if file_path.is_file():\n",
    "            print(f\"Skipping ecmwf_{year}_{variable}.grib, file found!\")\n",
    "            continue\n",
    "            \n",
    "        print(f\"Downloading ecmwf_{year}_{variable}.grib\")\n",
    "        try:\n",
    "            c.retrieve(\n",
    "                'seasonal-original-single-levels',\n",
    "                {\n",
    "                    'format': 'grib',\n",
    "                    'originating_centre': 'ecmwf',\n",
    "                    'system': '5',\n",
    "                    'variable': str(variable),\n",
    "                    'year': str(year),\n",
    "                    'month': [\n",
    "                        '01', '02', '03',\n",
    "                        '04', '05', '06',\n",
    "                        '07', '08', '09',\n",
    "                        '10', '11', '12',\n",
    "                        ],\n",
    "                    'day': '01',\n",
    "                    'leadtime_hour': leadtime_range,\n",
    "                    'area': [ 40, -25, -40, 55,], # Coarsely Africa\n",
    "                },\n",
    "                file_path)\n",
    "        except:\n",
    "            pass"
   ]
  },
  {
   "cell_type": "markdown",
   "id": "d0aa41c0-427c-425e-a79d-bfcd283eb6b2",
   "metadata": {},
   "source": [
    "\n",
    "# TODO: Build a .zarr and use as a provider for earthnet-minicuber"
   ]
  },
  {
   "cell_type": "code",
   "execution_count": 1,
   "id": "9e125858-0fec-4661-b60d-1b91aaef80d3",
   "metadata": {},
   "outputs": [],
   "source": [
    "import argparse\n",
    "import cdsapi\n",
    "\n",
    "import xarray as xr\n",
    "import cfgrib\n",
    "import numpy as np\n",
    "\n",
    "import zarr\n",
    "from numcodecs import Blosc\n",
    "from tqdm import tqdm\n",
    "\n",
    "from pathlib import Path"
   ]
  },
  {
   "cell_type": "code",
   "execution_count": 2,
   "id": "b29d3c09-4427-4b4d-b787-fa2e92415e8f",
   "metadata": {},
   "outputs": [],
   "source": [
    "download_dir = '/mnt/d/ecmwf_2017/'\n",
    "#download_dir to args.outpath"
   ]
  },
  {
   "cell_type": "code",
   "execution_count": 3,
   "id": "eb5ef23d-cd47-4734-ab44-47016261975c",
   "metadata": {},
   "outputs": [],
   "source": [
    "t2m_2017 = xr.open_dataset('/mnt/d/ecmwf/ecmwf_2017_2m_temperature.grib', chunks = {\"number\": 1, \"time\": 1,\"latitude\": 20, \"longitude\": 20, \"time\": 4*180}).rename({\"latitude\": \"lat\", \"longitude\": \"lon\"})"
   ]
  },
  {
   "cell_type": "code",
   "execution_count": null,
   "id": "230eaa3d-7427-4826-87f1-a00b11175767",
   "metadata": {},
   "outputs": [
    {
     "name": "stderr",
     "output_type": "stream",
     "text": [
      "/home/crequ/anaconda3/envs/HS_UC1/lib/python3.9/site-packages/xarray/core/indexing.py:1227: PerformanceWarning: Slicing is producing a large chunk. To accept the large\n",
      "chunk and silence this warning, set the option\n",
      "    >>> with dask.config.set(**{'array.slicing.split_large_chunks': False}):\n",
      "    ...     array[indexer]\n",
      "\n",
      "To avoid creating the large chunks, set the option\n",
      "    >>> with dask.config.set(**{'array.slicing.split_large_chunks': True}):\n",
      "    ...     array[indexer]\n",
      "  return self.array[key]\n",
      "/home/crequ/anaconda3/envs/HS_UC1/lib/python3.9/site-packages/xarray/core/indexing.py:1227: PerformanceWarning: Slicing is producing a large chunk. To accept the large\n",
      "chunk and silence this warning, set the option\n",
      "    >>> with dask.config.set(**{'array.slicing.split_large_chunks': False}):\n",
      "    ...     array[indexer]\n",
      "\n",
      "To avoid creating the large chunks, set the option\n",
      "    >>> with dask.config.set(**{'array.slicing.split_large_chunks': True}):\n",
      "    ...     array[indexer]\n",
      "  return self.array[key]\n",
      "/home/crequ/anaconda3/envs/HS_UC1/lib/python3.9/site-packages/xarray/core/indexing.py:1227: PerformanceWarning: Slicing is producing a large chunk. To accept the large\n",
      "chunk and silence this warning, set the option\n",
      "    >>> with dask.config.set(**{'array.slicing.split_large_chunks': False}):\n",
      "    ...     array[indexer]\n",
      "\n",
      "To avoid creating the large chunks, set the option\n",
      "    >>> with dask.config.set(**{'array.slicing.split_large_chunks': True}):\n",
      "    ...     array[indexer]\n",
      "  return self.array[key]\n",
      "/home/crequ/anaconda3/envs/HS_UC1/lib/python3.9/site-packages/xarray/core/indexing.py:1227: PerformanceWarning: Slicing is producing a large chunk. To accept the large\n",
      "chunk and silence this warning, set the option\n",
      "    >>> with dask.config.set(**{'array.slicing.split_large_chunks': False}):\n",
      "    ...     array[indexer]\n",
      "\n",
      "To avoid creating the large chunks, set the option\n",
      "    >>> with dask.config.set(**{'array.slicing.split_large_chunks': True}):\n",
      "    ...     array[indexer]\n",
      "  return self.array[key]\n",
      "/home/crequ/anaconda3/envs/HS_UC1/lib/python3.9/site-packages/xarray/core/indexing.py:1227: PerformanceWarning: Slicing is producing a large chunk. To accept the large\n",
      "chunk and silence this warning, set the option\n",
      "    >>> with dask.config.set(**{'array.slicing.split_large_chunks': False}):\n",
      "    ...     array[indexer]\n",
      "\n",
      "To avoid creating the large chunks, set the option\n",
      "    >>> with dask.config.set(**{'array.slicing.split_large_chunks': True}):\n",
      "    ...     array[indexer]\n",
      "  return self.array[key]\n"
     ]
    }
   ],
   "source": [
    "ecmwf = xr.merge([xr.open_dataset(gribpath, chunks = {\"number\":1,\"time\":1,\"latitude\": 20, \"longitude\": 20, \"time\": 4*180}).rename({\"latitude\": \"lat\", \"longitude\": \"lon\"}) for gribpath in Path('/mnt/d/ecmwf/').glob(\"*temperature.grib\")])"
   ]
  },
  {
   "cell_type": "code",
   "execution_count": 5,
   "id": "c96de6d7-8e55-4cef-886f-d7d897ac70c6",
   "metadata": {},
   "outputs": [
    {
     "data": {
      "text/plain": [
       "{'number': <xarray.DataArray 'number' (number: 51)>\n",
       " array([ 0,  1,  2,  3,  4,  5,  6,  7,  8,  9, 10, 11, 12, 13, 14, 15, 16, 17,\n",
       "        18, 19, 20, 21, 22, 23, 24, 25, 26, 27, 28, 29, 30, 31, 32, 33, 34, 35,\n",
       "        36, 37, 38, 39, 40, 41, 42, 43, 44, 45, 46, 47, 48, 49, 50])\n",
       " Coordinates:\n",
       "   * number   (number) int64 0 1 2 3 4 5 6 7 8 9 ... 42 43 44 45 46 47 48 49 50\n",
       "     surface  float64 ...\n",
       " Attributes:\n",
       "     long_name:      ensemble member numerical id\n",
       "     units:          1\n",
       "     standard_name:  realization,\n",
       " 'time': <xarray.DataArray 'time' (time: 12)>\n",
       " array(['2017-01-01T00:00:00.000000000', '2017-02-01T00:00:00.000000000',\n",
       "        '2017-03-01T00:00:00.000000000', '2017-04-01T00:00:00.000000000',\n",
       "        '2017-05-01T00:00:00.000000000', '2017-06-01T00:00:00.000000000',\n",
       "        '2017-07-01T00:00:00.000000000', '2017-08-01T00:00:00.000000000',\n",
       "        '2017-09-01T00:00:00.000000000', '2017-10-01T00:00:00.000000000',\n",
       "        '2017-11-01T00:00:00.000000000', '2017-12-01T00:00:00.000000000'],\n",
       "       dtype='datetime64[ns]')\n",
       " Coordinates:\n",
       "   * time     (time) datetime64[ns] 2017-01-01 2017-02-01 ... 2017-12-01\n",
       "     surface  float64 ...\n",
       " Attributes:\n",
       "     long_name:      initial time of forecast\n",
       "     standard_name:  forecast_reference_time,\n",
       " 'step': <xarray.DataArray 'step' (step: 719)>\n",
       " array([   21600000000000,    43200000000000,    64800000000000, ...,\n",
       "        15487200000000000, 15508800000000000, 15530400000000000],\n",
       "       dtype='timedelta64[ns]')\n",
       " Coordinates:\n",
       "   * step     (step) timedelta64[ns] 0 days 06:00:00 ... 179 days 18:00:00\n",
       "     surface  float64 ...\n",
       " Attributes:\n",
       "     long_name:      time since forecast_reference_time\n",
       "     standard_name:  forecast_period,\n",
       " 'surface': <xarray.DataArray 'surface' ()>\n",
       " array(0.)\n",
       " Coordinates:\n",
       "     surface  float64 ...\n",
       " Attributes:\n",
       "     long_name:  original GRIB coordinate for key: level(surface)\n",
       "     units:      1,\n",
       " 'lat': <xarray.DataArray 'lat' (lat: 81)>\n",
       " array([ 40.,  39.,  38.,  37.,  36.,  35.,  34.,  33.,  32.,  31.,  30.,  29.,\n",
       "         28.,  27.,  26.,  25.,  24.,  23.,  22.,  21.,  20.,  19.,  18.,  17.,\n",
       "         16.,  15.,  14.,  13.,  12.,  11.,  10.,   9.,   8.,   7.,   6.,   5.,\n",
       "          4.,   3.,   2.,   1.,   0.,  -1.,  -2.,  -3.,  -4.,  -5.,  -6.,  -7.,\n",
       "         -8.,  -9., -10., -11., -12., -13., -14., -15., -16., -17., -18., -19.,\n",
       "        -20., -21., -22., -23., -24., -25., -26., -27., -28., -29., -30., -31.,\n",
       "        -32., -33., -34., -35., -36., -37., -38., -39., -40.])\n",
       " Coordinates:\n",
       "     surface  float64 ...\n",
       "   * lat      (lat) float64 40.0 39.0 38.0 37.0 36.0 ... -37.0 -38.0 -39.0 -40.0\n",
       " Attributes:\n",
       "     units:             degrees_north\n",
       "     standard_name:     latitude\n",
       "     long_name:         latitude\n",
       "     stored_direction:  decreasing,\n",
       " 'lon': <xarray.DataArray 'lon' (lon: 81)>\n",
       " array([-25., -24., -23., -22., -21., -20., -19., -18., -17., -16., -15., -14.,\n",
       "        -13., -12., -11., -10.,  -9.,  -8.,  -7.,  -6.,  -5.,  -4.,  -3.,  -2.,\n",
       "         -1.,   0.,   1.,   2.,   3.,   4.,   5.,   6.,   7.,   8.,   9.,  10.,\n",
       "         11.,  12.,  13.,  14.,  15.,  16.,  17.,  18.,  19.,  20.,  21.,  22.,\n",
       "         23.,  24.,  25.,  26.,  27.,  28.,  29.,  30.,  31.,  32.,  33.,  34.,\n",
       "         35.,  36.,  37.,  38.,  39.,  40.,  41.,  42.,  43.,  44.,  45.,  46.,\n",
       "         47.,  48.,  49.,  50.,  51.,  52.,  53.,  54.,  55.])\n",
       " Coordinates:\n",
       "     surface  float64 ...\n",
       "   * lon      (lon) float64 -25.0 -24.0 -23.0 -22.0 -21.0 ... 52.0 53.0 54.0 55.0\n",
       " Attributes:\n",
       "     units:          degrees_east\n",
       "     standard_name:  longitude\n",
       "     long_name:      longitude,\n",
       " 'valid_time': <xarray.DataArray 'valid_time' (time: 12, step: 719)>\n",
       " dask.array<open_dataset-c0c7c2e6bb67be212eec9a978784aa5evalid_time, shape=(12, 719), dtype=datetime64[ns], chunksize=(12, 719), chunktype=numpy.ndarray>\n",
       " Coordinates:\n",
       "   * time        (time) datetime64[ns] 2017-01-01 2017-02-01 ... 2017-12-01\n",
       "   * step        (step) timedelta64[ns] 0 days 06:00:00 ... 179 days 18:00:00\n",
       "     surface     float64 ...\n",
       "     valid_time  (time, step) datetime64[ns] dask.array<chunksize=(12, 719), meta=np.ndarray>\n",
       " Attributes:\n",
       "     standard_name:  time\n",
       "     long_name:      time}"
      ]
     },
     "execution_count": 5,
     "metadata": {},
     "output_type": "execute_result"
    }
   ],
   "source": [
    "import yaml\n",
    "with open('coords.yml', 'w') as outfile:\n",
    "    yaml.dump(dict(ecmwf.coords), outfile, default_flow_style=False)\n",
    "dict(ecmwf.coords)"
   ]
  },
  {
   "cell_type": "code",
   "execution_count": 12,
   "id": "68e545df-dd66-4b5b-b1a9-4269dc92a6ea",
   "metadata": {},
   "outputs": [
    {
     "data": {
      "text/plain": [
       "<matplotlib.collections.QuadMesh at 0x7fcde991ea90>"
      ]
     },
     "execution_count": 12,
     "metadata": {},
     "output_type": "execute_result"
    },
    {
     "data": {
      "image/png": "[encoded data removed]",
      "text/plain": [
       "<Figure size 864x720 with 2 Axes>"
      ]
     },
     "metadata": {
      "needs_background": "light"
     },
     "output_type": "display_data"
    }
   ],
   "source": [
    "(t2m_2017.to_array(\"band\").isel(time = 0, number = 0, step = 0)).plot(figsize=(12,10))"
   ]
  },
  {
   "cell_type": "code",
   "execution_count": null,
   "id": "5b35f385-65ca-4ed5-a646-8e77c7e9b174",
   "metadata": {},
   "outputs": [],
   "source": [
    "t2m_2017[[\"t2m\"]].to_array(\"band\").plot(hue = \"band\")"
   ]
  },
  {
   "cell_type": "code",
   "execution_count": 16,
   "id": "11cb6662-2056-441c-a5db-f899543c9107",
   "metadata": {},
   "outputs": [
    {
     "name": "stderr",
     "output_type": "stream",
     "text": [
      "Ignoring index file '/mnt/d/ecmwf_2017/ecmwf_2017_2m_temperature.grib.923a8.idx' incompatible with GRIB file\n",
      "/home/crequ/anaconda3/envs/HS_UC1/lib/python3.9/site-packages/xarray/core/indexing.py:1227: PerformanceWarning: Slicing is producing a large chunk. To accept the large\n",
      "chunk and silence this warning, set the option\n",
      "    >>> with dask.config.set(**{'array.slicing.split_large_chunks': False}):\n",
      "    ...     array[indexer]\n",
      "\n",
      "To avoid creating the large chunks, set the option\n",
      "    >>> with dask.config.set(**{'array.slicing.split_large_chunks': True}):\n",
      "    ...     array[indexer]\n",
      "  return self.array[key]\n"
     ]
    }
   ],
   "source": [
    "ecmwf = xr.merge([xr.open_dataset(gribpath, chunks = {\"latitude\": 20, \"longitude\": 20, \"time\": 4*180}).rename({\"latitude\": \"lat\", \"longitude\": \"lon\"}) for gribpath in Path(download_dir).glob(\"*.grib\")])"
   ]
  },
  {
   "cell_type": "code",
   "execution_count": 1,
   "id": "43479dc9-6531-4deb-819e-c6804d0c8587",
   "metadata": {},
   "outputs": [
    {
     "ename": "NameError",
     "evalue": "name 'ecmwf' is not defined",
     "output_type": "error",
     "traceback": [
      "\u001b[0;31m---------------------------------------------------------------------------\u001b[0m",
      "\u001b[0;31mNameError\u001b[0m                                 Traceback (most recent call last)",
      "Input \u001b[0;32mIn [1]\u001b[0m, in \u001b[0;36m<cell line: 1>\u001b[0;34m()\u001b[0m\n\u001b[0;32m----> 1\u001b[0m \u001b[38;5;28mprint\u001b[39m(\u001b[43mecmwf\u001b[49m)\n",
      "\u001b[0;31mNameError\u001b[0m: name 'ecmwf' is not defined"
     ]
    }
   ],
   "source": [
    "print(ecmwf)"
   ]
  },
  {
   "cell_type": "markdown",
   "id": "d7115cd3-9bea-42c5-b595-539a10061745",
   "metadata": {},
   "source": [
    "# More info on this data:\n",
    "https://www.ecmwf.int/en/forecasts/datasets/set-v\n",
    "\n",
    "\n",
    "https://confluence.ecmwf.int/display/CKB/Parameters+GRIB+encoding+details\n",
    "\n",
    "Vars (ECMWF SEAS5) https://confluence.ecmwf.int/display/CKB/Detailed+list+of+parameters"
   ]
  },
  {
   "cell_type": "code",
   "execution_count": 19,
   "id": "c8e11f58-ca3f-4e9c-a406-9415f6a27e9e",
   "metadata": {},
   "outputs": [],
   "source": [
    "ds = xr.Dataset(coords = dict(ecmwf.coords))\n",
    "ds = ds.chunk(chunks={\"step\":4*180, \"number\":1,\"time\": 1, \"lat\": 20, \"lon\": 20})"
   ]
  },
  {
   "cell_type": "code",
   "execution_count": 20,
   "id": "bf03a5fe-68b3-45bb-9242-4488701a3d42",
   "metadata": {},
   "outputs": [],
   "source": [
    "outpath = '/mnt/d/ecmwf/zarr'\n",
    "zarrpath = str(Path(outpath)/\"ecmwf_africa_0d1_6hourly.zarr\")"
   ]
  },
  {
   "cell_type": "code",
   "execution_count": 25,
   "id": "12c95115-c549-4bf8-a245-820f61a49b27",
   "metadata": {},
   "outputs": [
    {
     "data": {
      "text/plain": [
       "<xarray.backends.zarr.ZarrStore at 0x7f183c169970>"
      ]
     },
     "execution_count": 25,
     "metadata": {},
     "output_type": "execute_result"
    }
   ],
   "source": [
    "ds.to_zarr(zarrpath)"
   ]
  },
  {
   "cell_type": "code",
   "execution_count": 26,
   "id": "66c4e9e3-a6e0-4052-ac8a-057dedd16b3e",
   "metadata": {},
   "outputs": [],
   "source": [
    "zarrgroup = zarr.open_group(zarrpath)\n",
    "compressor = Blosc(cname='lz4', clevel=1)"
   ]
  },
  {
   "cell_type": "code",
   "execution_count": 27,
   "id": "67733ffd-1a2f-4217-8332-010824576b12",
   "metadata": {},
   "outputs": [],
   "source": [
    "SHORT_NAMES = {\n",
    "    't2m': '2m_temperature', \n",
    "    'e': 'evaporation', \n",
    "}\n",
    "\n",
    "years = ['2017']\n",
    "SHORT_NAMES_INV = {v: k for k,v in SHORT_NAMES.items()}\n",
    "    \n",
    "for var in list(SHORT_NAMES.keys()):\n",
    "        newds = zarrgroup.create_dataset(var, shape = (len(ecmwf.number.values), len(ecmwf.time.values), len(ecmwf.step.values), len(ecmwf.lat.values), len(ecmwf.lon.values)), chunks = (1, 1, 4*180,20, 20), dtype = 'float32', fillvalue = np.nan, compressor = compressor)\n",
    "        newds.attrs['_ARRAY_DIMENSIONS'] = (\"number\",\"time\", \"step\",\"lat\", \"lon\")"
   ]
  },
  {
   "cell_type": "code",
   "execution_count": null,
   "id": "6fb5d57f-c452-4532-a1f3-8577f70ca519",
   "metadata": {},
   "outputs": [
    {
     "name": "stderr",
     "output_type": "stream",
     "text": [
      "  0%|                                                                                                                                                                                                                                  | 0/2 [00:00<?, ?it/s]Ignoring index file '/mnt/d/ecmwf_2017/ecmwf_2017_2m_temperature.grib.923a8.idx' incompatible with GRIB file\n"
     ]
    }
   ],
   "source": [
    "subdaily_vars = ['2m_temperature', 'mean_sea_level_pressure']\n",
    "\n",
    "for year_idx in range(len(years)):\n",
    "        for var in tqdm((SHORT_NAMES.keys())):\n",
    "            if var in subdaily_vars:\n",
    "                idxs = list(range(0,180*4-1,1))\n",
    "            else:\n",
    "                idxs = list(range(-1,180*4-1,4))[1:]\n",
    "                        \n",
    "            yearvar = xr.open_dataset(str(Path(download_dir)/f\"ecmwf_{years[year_idx]}_{SHORT_NAMES[var]}.grib\"))\n",
    "            zarrgroup[var][:,year_idx*12:year_idx*12+12,idxs,:,:] = yearvar['t2m'].values"
   ]
  },
  {
   "cell_type": "code",
   "execution_count": null,
   "id": "8f311aa0-6e1e-47b9-a79a-76240833262e",
   "metadata": {},
   "outputs": [],
   "source": []
  }
 ],
 "metadata": {
  "kernelspec": {
   "display_name": "Python 3 (ipykernel)",
   "language": "python",
   "name": "python3"
  },
  "language_info": {
   "codemirror_mode": {
    "name": "ipython",
    "version": 3
   },
   "file_extension": ".py",
   "mimetype": "text/x-python",
   "name": "python",
   "nbconvert_exporter": "python",
   "pygments_lexer": "ipython3",
   "version": "3.9.12"
  }
 },
 "nbformat": 4,
 "nbformat_minor": 5
}
